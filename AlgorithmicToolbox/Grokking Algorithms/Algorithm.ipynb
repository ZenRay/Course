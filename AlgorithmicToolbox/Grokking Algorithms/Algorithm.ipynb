{
 "cells": [
  {
   "cell_type": "code",
   "execution_count": 1,
   "metadata": {
    "collapsed": true
   },
   "outputs": [],
   "source": [
    "import random"
   ]
  },
  {
   "cell_type": "code",
   "execution_count": 2,
   "metadata": {},
   "outputs": [
    {
     "name": "stdout",
     "output_type": "stream",
     "text": [
      "Enter the max number: 1000\n",
      "Enter the min number: 4\n"
     ]
    }
   ],
   "source": [
    "# create the range\n",
    "max_number = int(input(\"Enter the max number: \"))\n",
    "min_number = int(input(\"Enter the min number: \"))"
   ]
  },
  {
   "cell_type": "code",
   "execution_count": 4,
   "metadata": {},
   "outputs": [
    {
     "name": "stdout",
     "output_type": "stream",
     "text": [
      "The total steps is 786.\n",
      "\n",
      "The random number is 789.\n",
      "\n",
      "4\n"
     ]
    }
   ],
   "source": [
    "# store the random number\n",
    "random_number = random.randint(min_number, max_number)\n",
    "# caculate the running steps\n",
    "step = 0\n",
    "check_number = min_number\n",
    "while True:\n",
    "    step += 1\n",
    "    if check_number == random_number:\n",
    "        print(\"The total steps is %i.\\n\" % step)\n",
    "        break\n",
    "    else:\n",
    "        check_number += 1\n",
    "        \n",
    "print(\"The random number is %i.\\n\" % random_number)"
   ]
  },
  {
   "cell_type": "code",
   "execution_count": 5,
   "metadata": {
    "collapsed": true
   },
   "outputs": [],
   "source": [
    "# 使用二分法来进行探索元素在有序序列中的位置\n",
    "def binary_search(origin_list, item):\n",
    "    low = 0\n",
    "    high = len(origin_list)\n",
    "    \n",
    "    while low <= high:\n",
    "        mid = (low + high) / 2\n",
    "        if item == origin_list[mid]:\n",
    "            return mid\n",
    "        elif item < origin_list[mid]:\n",
    "            high = mid - 1\n",
    "        else:\n",
    "            low = mid + 1\n",
    "    return None"
   ]
  },
  {
   "cell_type": "code",
   "execution_count": 7,
   "metadata": {},
   "outputs": [
    {
     "name": "stdout",
     "output_type": "stream",
     "text": [
      "1\n",
      "None\n"
     ]
    }
   ],
   "source": [
    "my_list = [1, 3, 5, 7, 9]\n",
    "print(binary_search(my_list, 3))\n",
    "print(binary_search(my_list, -2))"
   ]
  },
  {
   "cell_type": "code",
   "execution_count": null,
   "metadata": {
    "collapsed": true
   },
   "outputs": [],
   "source": []
  }
 ],
 "metadata": {
  "kernelspec": {
   "display_name": "Python [conda env:py2]",
   "language": "python",
   "name": "conda-env-py2-py"
  },
  "language_info": {
   "codemirror_mode": {
    "name": "ipython",
    "version": 2
   },
   "file_extension": ".py",
   "mimetype": "text/x-python",
   "name": "python",
   "nbconvert_exporter": "python",
   "pygments_lexer": "ipython2",
   "version": "2.7.14"
  }
 },
 "nbformat": 4,
 "nbformat_minor": 2
}
